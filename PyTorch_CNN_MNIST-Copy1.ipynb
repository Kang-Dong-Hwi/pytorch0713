{
 "cells": [
  {
   "cell_type": "markdown",
   "metadata": {},
   "source": [
    "#### PyTorch CNN MNIST"
   ]
  },
  {
   "cell_type": "code",
   "execution_count": 1,
   "metadata": {},
   "outputs": [],
   "source": [
    "\n",
    "import torch\n",
    "import numpy as np\n",
    "\n",
    "import idx2numpy\n",
    "import matplotlib.cm as cm\n",
    "import matplotlib.pyplot as plt\n",
    "\n",
    "PATH = 'C:/Projects/keras_talk/keras/intern/0709/MNIST/'\n",
    "EPOCHS = 10\n",
    "BATCH_SIZE = 100\n"
   ]
  },
  {
   "cell_type": "markdown",
   "metadata": {},
   "source": [
    "#### data"
   ]
  },
  {
   "cell_type": "code",
   "execution_count": 2,
   "metadata": {},
   "outputs": [],
   "source": [
    "x_test_path = 't10k-images.idx3-ubyte'\n",
    "y_test_path = 't10k-labels.idx1-ubyte'\n",
    "x_train_path = 'train-images.idx3-ubyte'\n",
    "y_train_path = 'train-labels.idx1-ubyte'\n",
    "\n",
    "\n",
    "x_test = idx2numpy.convert_from_file(PATH+x_test_path)\n",
    "y_test = idx2numpy.convert_from_file(PATH+y_test_path)\n",
    "x_train = idx2numpy.convert_from_file(PATH+x_train_path)\n",
    "y_train = idx2numpy.convert_from_file(PATH+y_train_path)\n",
    "\n",
    "\n",
    "x_test  = x_test.reshape ( len(x_test),  1, 28, 28).astype('float32') / 255.\n",
    "x_train = x_train.reshape( len(x_train), 1, 28, 28).astype('float32') / 255.        \n",
    "#y_test  = one_hot_encoding(y_test,10)\n",
    "#y_train = one_hot_encoding(y_train,10)\n"
   ]
  },
  {
   "cell_type": "markdown",
   "metadata": {},
   "source": [
    "#### Data_loader 구성"
   ]
  },
  {
   "cell_type": "code",
   "execution_count": 3,
   "metadata": {},
   "outputs": [
    {
     "name": "stderr",
     "output_type": "stream",
     "text": [
      "..\\torch\\csrc\\utils\\tensor_numpy.cpp:141: UserWarning: The given NumPy array is not writeable, and PyTorch does not support non-writeable tensors. This means you can write to the underlying (supposedly non-writeable) NumPy array using the tensor. You may want to copy the array to protect its data or make it writeable before converting it to a tensor. This type of warning will be suppressed for the rest of this program.\n"
     ]
    }
   ],
   "source": [
    "from torch.utils.data import TensorDataset\n",
    "from torch.utils.data import DataLoader\n",
    "\n",
    "\n",
    "x_test  = torch.from_numpy(x_test ).float().to('cpu')\n",
    "x_train = torch.from_numpy(x_train).float().to('cpu')\n",
    "y_test  = torch.from_numpy(y_test ).long().to('cpu')\n",
    "y_train = torch.from_numpy(y_train).long().to('cpu')\n",
    "\n",
    "\n",
    "dataset      = TensorDataset(x_train, y_train)\n",
    "dataset_test = TensorDataset(x_test, y_test)\n",
    "\n",
    "dataloader      = DataLoader( dataset, batch_size = BATCH_SIZE\n",
    "                        ,shuffle= True, drop_last = True ) \n",
    "dataloader_test = DataLoader( dataset_test, batch_size = BATCH_SIZE\n",
    "                        ,shuffle= True, drop_last = True )"
   ]
  },
  {
   "cell_type": "markdown",
   "metadata": {},
   "source": [
    "#### pytorch model 구성"
   ]
  },
  {
   "cell_type": "code",
   "execution_count": 4,
   "metadata": {},
   "outputs": [],
   "source": [
    "import torch.nn\n",
    "import torch.nn.functional\n",
    "import torch.optim\n",
    "\n",
    "class CNN( torch.nn.Module ):\n",
    "    def __init__(self):\n",
    "        super(CNN, self).__init__()\n",
    "        \n",
    "        self.conv1  = torch.nn.Conv2d( in_channels =  1, out_channels = 16, kernel_size = 3 )\n",
    "        self.Crelu1 = torch.nn.ReLU()\n",
    "        self.conv2  = torch.nn.Conv2d( in_channels = 16, out_channels = 32, kernel_size = 3 )\n",
    "        self.Crelu2 = torch.nn.ReLU()\n",
    "        self.maxpl  = torch.nn.MaxPool2d( kernel_size=2 )\n",
    "        #flatten()\n",
    "        self.dropout= torch.nn.Dropout()\n",
    "        self.lay1   = torch.nn.Linear( 12*12*32, 32 )\n",
    "        self.Lrelu1 = torch.nn.ReLU()\n",
    "        self.lay2   = torch.nn.Linear( 32, 10 )\n",
    "        \n",
    "        \n",
    "    def forward(self, x):\n",
    "        output = self.conv1(x)\n",
    "        output = self.Crelu1(output)\n",
    "        output = self.conv2(output)\n",
    "        output = self.Crelu2(output)\n",
    "        output = self.maxpl(output)\n",
    "        output = output.view(-1,12*12*32)\n",
    "        output = self.dropout(output)\n",
    "        output = self.lay1(output)\n",
    "        output = self.Lrelu1(output)\n",
    "        output = self.lay2(output)\n",
    "        output = torch.nn.functional.softmax(output, dim=1)\n",
    "        \n",
    "        return output\n",
    "        \n",
    "\n"
   ]
  },
  {
   "cell_type": "markdown",
   "metadata": {},
   "source": [
    "#### https://tensorflow.blog/2017/01/26/pytorch-mnist-example/\n",
    "#####  MnistModel은 위 블로그 게시물 참고하여 구성하였습니다."
   ]
  },
  {
   "cell_type": "code",
   "execution_count": 5,
   "metadata": {},
   "outputs": [],
   "source": [
    "class MnistModel(torch.nn.Module):\n",
    "    def __init__(self):\n",
    "        super(MnistModel, self).__init__()\n",
    "        self.conv1  = torch.nn.Conv2d( 1, 32, 5, padding=2)\n",
    "        self.conv2  = torch.nn.Conv2d(32, 64, 5, padding=2)\n",
    "        #Flatten\n",
    "        self.layer1 = torch.nn.Linear(64*7*7, 1024)\n",
    "        self.layer2 = torch.nn.Linear(1024, 10)\n",
    "    \n",
    "    def forward(self, x):\n",
    "        output = torch.nn.functional.max_pool2d(torch.nn.functional.relu(self.conv1(x)), 2)\n",
    "        output = torch.nn.functional.max_pool2d(torch.nn.functional.relu(self.conv2(output)), 2)\n",
    "        output = output.view(-1, 64*7*7)\n",
    "        output = torch.nn.functional.relu(self.layer1(output))\n",
    "        output=  torch.nn.functional.dropout(output, training=self.training)\n",
    "        output = torch.nn.functional.log_softmax(self.layer2(output), dim=1) \n",
    "        \n",
    "        return output     \n",
    "        "
   ]
  },
  {
   "cell_type": "markdown",
   "metadata": {},
   "source": [
    "#### model 학습"
   ]
  },
  {
   "cell_type": "code",
   "execution_count": 6,
   "metadata": {},
   "outputs": [
    {
     "name": "stdout",
     "output_type": "stream",
     "text": [
      "epoch1\n",
      "\tLoss:2.293\tAcc:8.000\n",
      "\tLoss:0.678\tAcc:77.000\n",
      "\tLoss:0.446\tAcc:84.000\n",
      "\tLoss:0.215\tAcc:94.000\n",
      "\tLoss:0.272\tAcc:94.000\n",
      "\tLoss:0.208\tAcc:94.000\n",
      "epoch2\n",
      "\tLoss:0.133\tAcc:98.000\n",
      "\tLoss:0.078\tAcc:98.000\n",
      "\tLoss:0.161\tAcc:97.000\n",
      "\tLoss:0.100\tAcc:97.000\n",
      "\tLoss:0.158\tAcc:96.000\n",
      "\tLoss:0.077\tAcc:99.000\n",
      "epoch3\n",
      "\tLoss:0.118\tAcc:97.000\n",
      "\tLoss:0.034\tAcc:99.000\n",
      "\tLoss:0.024\tAcc:100.000\n",
      "\tLoss:0.034\tAcc:100.000\n",
      "\tLoss:0.037\tAcc:99.000\n",
      "\tLoss:0.032\tAcc:99.000\n",
      "epoch4\n",
      "\tLoss:0.082\tAcc:96.000\n",
      "\tLoss:0.047\tAcc:97.000\n",
      "\tLoss:0.091\tAcc:96.000\n",
      "\tLoss:0.039\tAcc:98.000\n",
      "\tLoss:0.081\tAcc:97.000\n",
      "\tLoss:0.033\tAcc:98.000\n",
      "epoch5\n",
      "\tLoss:0.056\tAcc:98.000\n",
      "\tLoss:0.033\tAcc:98.000\n",
      "\tLoss:0.068\tAcc:97.000\n",
      "\tLoss:0.109\tAcc:97.000\n",
      "\tLoss:0.071\tAcc:97.000\n",
      "\tLoss:0.064\tAcc:97.000\n",
      "epoch6\n",
      "\tLoss:0.068\tAcc:98.000\n",
      "\tLoss:0.049\tAcc:99.000\n",
      "\tLoss:0.025\tAcc:99.000\n",
      "\tLoss:0.066\tAcc:99.000\n",
      "\tLoss:0.039\tAcc:98.000\n",
      "\tLoss:0.026\tAcc:99.000\n",
      "epoch7\n",
      "\tLoss:0.040\tAcc:99.000\n",
      "\tLoss:0.022\tAcc:99.000\n",
      "\tLoss:0.024\tAcc:99.000\n",
      "\tLoss:0.038\tAcc:99.000\n",
      "\tLoss:0.046\tAcc:97.000\n",
      "\tLoss:0.076\tAcc:97.000\n",
      "epoch8\n",
      "\tLoss:0.009\tAcc:100.000\n",
      "\tLoss:0.045\tAcc:99.000\n",
      "\tLoss:0.021\tAcc:99.000\n",
      "\tLoss:0.064\tAcc:97.000\n",
      "\tLoss:0.029\tAcc:99.000\n",
      "\tLoss:0.105\tAcc:97.000\n",
      "epoch9\n",
      "\tLoss:0.033\tAcc:99.000\n",
      "\tLoss:0.035\tAcc:98.000\n",
      "\tLoss:0.036\tAcc:99.000\n",
      "\tLoss:0.030\tAcc:98.000\n",
      "\tLoss:0.049\tAcc:98.000\n",
      "\tLoss:0.005\tAcc:100.000\n",
      "epoch10\n",
      "\tLoss:0.018\tAcc:99.000\n",
      "\tLoss:0.026\tAcc:99.000\n",
      "\tLoss:0.004\tAcc:100.000\n",
      "\tLoss:0.046\tAcc:99.000\n",
      "\tLoss:0.008\tAcc:100.000\n",
      "\tLoss:0.098\tAcc:97.000\n"
     ]
    }
   ],
   "source": [
    "from torch.autograd import Variable\n",
    "torch.manual_seed(1)\n",
    "\n",
    "#model = CNN()\n",
    "model = MnistModel()\n",
    "criterion = torch.nn.CrossEntropyLoss()\n",
    "optimizer = torch.optim.Adam(model.parameters(), lr=0.0001)\n",
    "\n",
    "train_loss = []\n",
    "train_acc  = []\n",
    "\n",
    "\n",
    "model.train()\n",
    "for epoch in range(EPOCHS):\n",
    "        \n",
    "    print('epoch'+str(epoch+1))\n",
    "    for i,(data, label) in enumerate(dataloader):\n",
    "        #data, label = Variable(data), Variable(label)\n",
    "        optimizer.zero_grad()\n",
    "        output = model(data)\n",
    "        #loss = criterion(output, label)\n",
    "        loss = torch.nn.functional.nll_loss(output, label)\n",
    "        loss.backward()\n",
    "        train_loss.append(loss.item())\n",
    "        \n",
    "        optimizer.step()\n",
    "        total = label.size(0)\n",
    "        preds = output.data.max(1)[1]\n",
    "        correct = (preds==label).sum().item()\n",
    "        accuracy = correct/BATCH_SIZE*100\n",
    "        train_acc.append( accuracy )\n",
    "        \n",
    "        if i % BATCH_SIZE == 0:\n",
    "            print('\\tLoss:{:.3f}\\tAcc:{:.3f}'.format(loss.item(),accuracy))\n",
    "        \n",
    "    \n",
    "    \n",
    "    "
   ]
  },
  {
   "cell_type": "markdown",
   "metadata": {},
   "source": [
    "#### 학습 결과"
   ]
  },
  {
   "cell_type": "code",
   "execution_count": 10,
   "metadata": {},
   "outputs": [
    {
     "name": "stdout",
     "output_type": "stream",
     "text": [
      "Test Accuracy:  99.06\n"
     ]
    },
    {
     "data": {
      "image/png": "[encoded data removed]",
      "text/plain": [
       "<Figure size 432x288 with 2 Axes>"
      ]
     },
     "metadata": {
      "needs_background": "light"
     },
     "output_type": "display_data"
    }
   ],
   "source": [
    "model.eval()\n",
    "\n",
    "with torch.no_grad():\n",
    "    correct = 0\n",
    "    total = 0\n",
    "    for data, label in dataloader_test:\n",
    "        output = model(data)\n",
    "        preds  = torch.max(output.data, 1)[1]\n",
    "        total   += len(label)\n",
    "        correct += (preds==label).sum().item()\n",
    "    print('Test Accuracy: ', 100.*correct/total)\n",
    "    \n",
    "\n",
    "%matplotlib inline\n",
    "fig, loss_ax = plt.subplots()\n",
    "acc_ax = loss_ax.twinx()\n",
    "\n",
    "loss_ax.plot(np.asarray(train_loss), 'y')\n",
    "acc_ax.plot( np.asarray(train_acc),  'b')\n",
    "\n",
    "loss_ax.set_xlabel('epoch')\n",
    "loss_ax.set_ylabel('loss')\n",
    "acc_ax.set_ylabel('accuracy')\n",
    "\n",
    "plt.show()\n"
   ]
  }
 ],
 "metadata": {
  "kernelspec": {
   "display_name": "Python 3",
   "language": "python",
   "name": "python3"
  },
  "language_info": {
   "codemirror_mode": {
    "name": "ipython",
    "version": 3
   },
   "file_extension": ".py",
   "mimetype": "text/x-python",
   "name": "python",
   "nbconvert_exporter": "python",
   "pygments_lexer": "ipython3",
   "version": "3.7.7"
  }
 },
 "nbformat": 4,
 "nbformat_minor": 4
}
